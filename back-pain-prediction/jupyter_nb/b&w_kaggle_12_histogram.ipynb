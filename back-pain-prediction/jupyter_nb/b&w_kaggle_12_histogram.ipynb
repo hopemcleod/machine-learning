{
 "cells": [
  {
   "cell_type": "code",
   "execution_count": 10,
   "metadata": {},
   "outputs": [],
   "source": [
    "import matplotlib.pyplot as plt\n",
    "import numpy as np\n",
    "import pandas as pd\n",
    "import math\n",
    "import matplotlib as mpl\n",
    "from cycler import cycler\n",
    "\n",
    "monochrome = (cycler('color', ['k']) * cycler('linestyle', ['-', '--', ':', '-.', '_']) * cycler('marker', ['^',',', '.']))\n",
    "dpi=200\n",
    "mpl.rcParams['figure.dpi']= dpi"
   ]
  },
  {
   "cell_type": "code",
   "execution_count": 11,
   "metadata": {
    "scrolled": true
   },
   "outputs": [
    {
     "data": {
      "text/html": [
       "<div>\n",
       "<style scoped>\n",
       "    .dataframe tbody tr th:only-of-type {\n",
       "        vertical-align: middle;\n",
       "    }\n",
       "\n",
       "    .dataframe tbody tr th {\n",
       "        vertical-align: top;\n",
       "    }\n",
       "\n",
       "    .dataframe thead th {\n",
       "        text-align: right;\n",
       "    }\n",
       "</style>\n",
       "<table border=\"1\" class=\"dataframe\">\n",
       "  <thead>\n",
       "    <tr style=\"text-align: right;\">\n",
       "      <th></th>\n",
       "      <th>pelvic_incidence</th>\n",
       "      <th>pelvic_tilt</th>\n",
       "      <th>lumbar_lordosis_angle</th>\n",
       "      <th>sacral_slope</th>\n",
       "      <th>pelvic_radius</th>\n",
       "      <th>degree_spondylolisthesis</th>\n",
       "      <th>pelvic_slope</th>\n",
       "      <th>direct_tilt</th>\n",
       "      <th>thoracic_slope</th>\n",
       "      <th>cervical_tilt</th>\n",
       "      <th>sacrum_angle</th>\n",
       "      <th>scoliosis_slope</th>\n",
       "    </tr>\n",
       "  </thead>\n",
       "  <tbody>\n",
       "    <tr>\n",
       "      <th>count</th>\n",
       "      <td>310.000000</td>\n",
       "      <td>310.000000</td>\n",
       "      <td>310.000000</td>\n",
       "      <td>310.000000</td>\n",
       "      <td>310.000000</td>\n",
       "      <td>310.000000</td>\n",
       "      <td>310.000000</td>\n",
       "      <td>310.000000</td>\n",
       "      <td>310.000000</td>\n",
       "      <td>310.000000</td>\n",
       "      <td>310.000000</td>\n",
       "      <td>310.000000</td>\n",
       "    </tr>\n",
       "    <tr>\n",
       "      <th>mean</th>\n",
       "      <td>60.496653</td>\n",
       "      <td>17.542822</td>\n",
       "      <td>51.930930</td>\n",
       "      <td>42.953831</td>\n",
       "      <td>117.920655</td>\n",
       "      <td>26.296694</td>\n",
       "      <td>0.472979</td>\n",
       "      <td>21.321526</td>\n",
       "      <td>13.064511</td>\n",
       "      <td>11.933317</td>\n",
       "      <td>-14.053139</td>\n",
       "      <td>25.645981</td>\n",
       "    </tr>\n",
       "    <tr>\n",
       "      <th>std</th>\n",
       "      <td>17.236520</td>\n",
       "      <td>10.008330</td>\n",
       "      <td>18.554064</td>\n",
       "      <td>13.423102</td>\n",
       "      <td>13.317377</td>\n",
       "      <td>37.559027</td>\n",
       "      <td>0.285787</td>\n",
       "      <td>8.639423</td>\n",
       "      <td>3.399713</td>\n",
       "      <td>2.893265</td>\n",
       "      <td>12.225582</td>\n",
       "      <td>10.450558</td>\n",
       "    </tr>\n",
       "    <tr>\n",
       "      <th>min</th>\n",
       "      <td>26.147921</td>\n",
       "      <td>-6.554948</td>\n",
       "      <td>14.000000</td>\n",
       "      <td>13.366931</td>\n",
       "      <td>70.082575</td>\n",
       "      <td>-11.058179</td>\n",
       "      <td>0.003220</td>\n",
       "      <td>7.027000</td>\n",
       "      <td>7.037800</td>\n",
       "      <td>7.030600</td>\n",
       "      <td>-35.287375</td>\n",
       "      <td>7.007900</td>\n",
       "    </tr>\n",
       "    <tr>\n",
       "      <th>25%</th>\n",
       "      <td>46.430294</td>\n",
       "      <td>10.667069</td>\n",
       "      <td>37.000000</td>\n",
       "      <td>33.347122</td>\n",
       "      <td>110.709196</td>\n",
       "      <td>1.603727</td>\n",
       "      <td>0.224367</td>\n",
       "      <td>13.054400</td>\n",
       "      <td>10.417800</td>\n",
       "      <td>9.541140</td>\n",
       "      <td>-24.289522</td>\n",
       "      <td>17.189075</td>\n",
       "    </tr>\n",
       "    <tr>\n",
       "      <th>50%</th>\n",
       "      <td>58.691038</td>\n",
       "      <td>16.357689</td>\n",
       "      <td>49.562398</td>\n",
       "      <td>42.404912</td>\n",
       "      <td>118.268178</td>\n",
       "      <td>11.767934</td>\n",
       "      <td>0.475989</td>\n",
       "      <td>21.907150</td>\n",
       "      <td>12.938450</td>\n",
       "      <td>11.953835</td>\n",
       "      <td>-14.622856</td>\n",
       "      <td>24.931950</td>\n",
       "    </tr>\n",
       "    <tr>\n",
       "      <th>75%</th>\n",
       "      <td>72.877696</td>\n",
       "      <td>22.120395</td>\n",
       "      <td>63.000000</td>\n",
       "      <td>52.695888</td>\n",
       "      <td>125.467674</td>\n",
       "      <td>41.287352</td>\n",
       "      <td>0.704846</td>\n",
       "      <td>28.954075</td>\n",
       "      <td>15.889525</td>\n",
       "      <td>14.371810</td>\n",
       "      <td>-3.497094</td>\n",
       "      <td>33.979600</td>\n",
       "    </tr>\n",
       "    <tr>\n",
       "      <th>max</th>\n",
       "      <td>129.834041</td>\n",
       "      <td>49.431864</td>\n",
       "      <td>125.742385</td>\n",
       "      <td>121.429566</td>\n",
       "      <td>163.071041</td>\n",
       "      <td>418.543082</td>\n",
       "      <td>0.998827</td>\n",
       "      <td>36.743900</td>\n",
       "      <td>19.324000</td>\n",
       "      <td>16.821080</td>\n",
       "      <td>6.972071</td>\n",
       "      <td>44.341200</td>\n",
       "    </tr>\n",
       "  </tbody>\n",
       "</table>\n",
       "</div>"
      ],
      "text/plain": [
       "       pelvic_incidence  pelvic_tilt  lumbar_lordosis_angle  sacral_slope  \\\n",
       "count        310.000000   310.000000             310.000000    310.000000   \n",
       "mean          60.496653    17.542822              51.930930     42.953831   \n",
       "std           17.236520    10.008330              18.554064     13.423102   \n",
       "min           26.147921    -6.554948              14.000000     13.366931   \n",
       "25%           46.430294    10.667069              37.000000     33.347122   \n",
       "50%           58.691038    16.357689              49.562398     42.404912   \n",
       "75%           72.877696    22.120395              63.000000     52.695888   \n",
       "max          129.834041    49.431864             125.742385    121.429566   \n",
       "\n",
       "       pelvic_radius  degree_spondylolisthesis  pelvic_slope  direct_tilt  \\\n",
       "count     310.000000                310.000000    310.000000   310.000000   \n",
       "mean      117.920655                 26.296694      0.472979    21.321526   \n",
       "std        13.317377                 37.559027      0.285787     8.639423   \n",
       "min        70.082575                -11.058179      0.003220     7.027000   \n",
       "25%       110.709196                  1.603727      0.224367    13.054400   \n",
       "50%       118.268178                 11.767934      0.475989    21.907150   \n",
       "75%       125.467674                 41.287352      0.704846    28.954075   \n",
       "max       163.071041                418.543082      0.998827    36.743900   \n",
       "\n",
       "       thoracic_slope  cervical_tilt  sacrum_angle  scoliosis_slope  \n",
       "count      310.000000     310.000000    310.000000       310.000000  \n",
       "mean        13.064511      11.933317    -14.053139        25.645981  \n",
       "std          3.399713       2.893265     12.225582        10.450558  \n",
       "min          7.037800       7.030600    -35.287375         7.007900  \n",
       "25%         10.417800       9.541140    -24.289522        17.189075  \n",
       "50%         12.938450      11.953835    -14.622856        24.931950  \n",
       "75%         15.889525      14.371810     -3.497094        33.979600  \n",
       "max         19.324000      16.821080      6.972071        44.341200  "
      ]
     },
     "execution_count": 11,
     "metadata": {},
     "output_type": "execute_result"
    }
   ],
   "source": [
    "df = pd.read_csv('../data/column-2-outcomes-12-attrib.csv')\n",
    "#print(df.columns.values)\n",
    "df.describe()"
   ]
  },
  {
   "cell_type": "markdown",
   "metadata": {},
   "source": [
    "The pelvic incidence values should normally lie in the range 35 - 85 deg with a mean of 52 deg. Want to draw a hitogram that shows the freq of values that fall into the range  less than 35 deg,35-51, 50-60, an 60-85, greater than 85"
   ]
  },
  {
   "cell_type": "code",
   "execution_count": 12,
   "metadata": {},
   "outputs": [
    {
     "ename": "ValueError",
     "evalue": "linestyle '_' is not a valid on-off ink sequence.",
     "output_type": "error",
     "traceback": [
      "\u001b[1;31m---------------------------------------------------------------------------\u001b[0m",
      "\u001b[1;31mValueError\u001b[0m                                Traceback (most recent call last)",
      "Cell \u001b[1;32mIn[12], line 21\u001b[0m\n\u001b[0;32m     18\u001b[0m ax1\u001b[38;5;241m.\u001b[39mset_xlim(x_min, x_max)\n\u001b[0;32m     20\u001b[0m ax1\u001b[38;5;241m.\u001b[39mset_xlim(x_min, x_max)\n\u001b[1;32m---> 21\u001b[0m \u001b[43max1\u001b[49m\u001b[38;5;241;43m.\u001b[39;49m\u001b[43mset_prop_cycle\u001b[49m\u001b[43m(\u001b[49m\u001b[43mmonochrome\u001b[49m\u001b[43m)\u001b[49m\n\u001b[0;32m     22\u001b[0m \u001b[38;5;66;03m#patterns = [ \"/\" , \"\\\\\" , \"|\" , \"-\" , \"+\" , \"x\", \"o\", \"O\", \".\", \"*\" ]\u001b[39;00m\n\u001b[0;32m     23\u001b[0m n, bins, patches \u001b[38;5;241m=\u001b[39m ax1\u001b[38;5;241m.\u001b[39mhist(pi_normals, alpha\u001b[38;5;241m=\u001b[39m\u001b[38;5;241m0.2\u001b[39m,hatch\u001b[38;5;241m=\u001b[39m\u001b[38;5;124m\"\u001b[39m\u001b[38;5;124mo\u001b[39m\u001b[38;5;124m\"\u001b[39m, density\u001b[38;5;241m=\u001b[39m\u001b[38;5;28;01mTrue\u001b[39;00m)\n",
      "File \u001b[1;32mc:\\dev\\machine-learning\\back-pain-prediction\\env\\Lib\\site-packages\\matplotlib\\axes\\_base.py:1602\u001b[0m, in \u001b[0;36m_AxesBase.set_prop_cycle\u001b[1;34m(self, *args, **kwargs)\u001b[0m\n\u001b[0;32m   1600\u001b[0m     prop_cycle \u001b[38;5;241m=\u001b[39m \u001b[38;5;28;01mNone\u001b[39;00m\n\u001b[0;32m   1601\u001b[0m \u001b[38;5;28;01melse\u001b[39;00m:\n\u001b[1;32m-> 1602\u001b[0m     prop_cycle \u001b[38;5;241m=\u001b[39m \u001b[43mcycler\u001b[49m\u001b[43m(\u001b[49m\u001b[38;5;241;43m*\u001b[39;49m\u001b[43margs\u001b[49m\u001b[43m,\u001b[49m\u001b[43m \u001b[49m\u001b[38;5;241;43m*\u001b[39;49m\u001b[38;5;241;43m*\u001b[39;49m\u001b[43mkwargs\u001b[49m\u001b[43m)\u001b[49m\n\u001b[0;32m   1603\u001b[0m \u001b[38;5;28mself\u001b[39m\u001b[38;5;241m.\u001b[39m_get_lines\u001b[38;5;241m.\u001b[39mset_prop_cycle(prop_cycle)\n\u001b[0;32m   1604\u001b[0m \u001b[38;5;28mself\u001b[39m\u001b[38;5;241m.\u001b[39m_get_patches_for_fill\u001b[38;5;241m.\u001b[39mset_prop_cycle(prop_cycle)\n",
      "File \u001b[1;32mc:\\dev\\machine-learning\\back-pain-prediction\\env\\Lib\\site-packages\\matplotlib\\rcsetup.py:753\u001b[0m, in \u001b[0;36mcycler\u001b[1;34m(*args, **kwargs)\u001b[0m\n\u001b[0;32m    750\u001b[0m     \u001b[38;5;28;01mif\u001b[39;00m \u001b[38;5;129;01mnot\u001b[39;00m \u001b[38;5;28misinstance\u001b[39m(args[\u001b[38;5;241m0\u001b[39m], Cycler):\n\u001b[0;32m    751\u001b[0m         \u001b[38;5;28;01mraise\u001b[39;00m \u001b[38;5;167;01mTypeError\u001b[39;00m(\u001b[38;5;124m\"\u001b[39m\u001b[38;5;124mIf only one positional argument given, it must \u001b[39m\u001b[38;5;124m\"\u001b[39m\n\u001b[0;32m    752\u001b[0m                         \u001b[38;5;124m\"\u001b[39m\u001b[38;5;124mbe a Cycler instance.\u001b[39m\u001b[38;5;124m\"\u001b[39m)\n\u001b[1;32m--> 753\u001b[0m     \u001b[38;5;28;01mreturn\u001b[39;00m \u001b[43mvalidate_cycler\u001b[49m\u001b[43m(\u001b[49m\u001b[43margs\u001b[49m\u001b[43m[\u001b[49m\u001b[38;5;241;43m0\u001b[39;49m\u001b[43m]\u001b[49m\u001b[43m)\u001b[49m\n\u001b[0;32m    754\u001b[0m \u001b[38;5;28;01melif\u001b[39;00m \u001b[38;5;28mlen\u001b[39m(args) \u001b[38;5;241m==\u001b[39m \u001b[38;5;241m2\u001b[39m:\n\u001b[0;32m    755\u001b[0m     pairs \u001b[38;5;241m=\u001b[39m [(args[\u001b[38;5;241m0\u001b[39m], args[\u001b[38;5;241m1\u001b[39m])]\n",
      "File \u001b[1;32mc:\\dev\\machine-learning\\back-pain-prediction\\env\\Lib\\site-packages\\matplotlib\\rcsetup.py:881\u001b[0m, in \u001b[0;36mvalidate_cycler\u001b[1;34m(s)\u001b[0m\n\u001b[0;32m    878\u001b[0m     cycler_inst\u001b[38;5;241m.\u001b[39mchange_key(prop, norm_prop)\n\u001b[0;32m    880\u001b[0m \u001b[38;5;28;01mfor\u001b[39;00m key, vals \u001b[38;5;129;01min\u001b[39;00m cycler_inst\u001b[38;5;241m.\u001b[39mby_key()\u001b[38;5;241m.\u001b[39mitems():\n\u001b[1;32m--> 881\u001b[0m     \u001b[43m_prop_validators\u001b[49m\u001b[43m[\u001b[49m\u001b[43mkey\u001b[49m\u001b[43m]\u001b[49m\u001b[43m(\u001b[49m\u001b[43mvals\u001b[49m\u001b[43m)\u001b[49m\n\u001b[0;32m    883\u001b[0m \u001b[38;5;28;01mreturn\u001b[39;00m cycler_inst\n",
      "File \u001b[1;32mc:\\dev\\machine-learning\\back-pain-prediction\\env\\Lib\\site-packages\\matplotlib\\rcsetup.py:118\u001b[0m, in \u001b[0;36m_listify_validator.<locals>.f\u001b[1;34m(s)\u001b[0m\n\u001b[0;32m    111\u001b[0m \u001b[38;5;66;03m# Allow any ordered sequence type -- generators, np.ndarray, pd.Series\u001b[39;00m\n\u001b[0;32m    112\u001b[0m \u001b[38;5;66;03m# -- but not sets, whose iteration order is non-deterministic.\u001b[39;00m\n\u001b[0;32m    113\u001b[0m \u001b[38;5;28;01melif\u001b[39;00m np\u001b[38;5;241m.\u001b[39miterable(s) \u001b[38;5;129;01mand\u001b[39;00m \u001b[38;5;129;01mnot\u001b[39;00m \u001b[38;5;28misinstance\u001b[39m(s, (\u001b[38;5;28mset\u001b[39m, \u001b[38;5;28mfrozenset\u001b[39m)):\n\u001b[0;32m    114\u001b[0m     \u001b[38;5;66;03m# The condition on this list comprehension will preserve the\u001b[39;00m\n\u001b[0;32m    115\u001b[0m     \u001b[38;5;66;03m# behavior of filtering out any empty strings (behavior was\u001b[39;00m\n\u001b[0;32m    116\u001b[0m     \u001b[38;5;66;03m# from the original validate_stringlist()), while allowing\u001b[39;00m\n\u001b[0;32m    117\u001b[0m     \u001b[38;5;66;03m# any non-string/text scalar values such as numbers and arrays.\u001b[39;00m\n\u001b[1;32m--> 118\u001b[0m     val \u001b[38;5;241m=\u001b[39m [\u001b[43mscalar_validator\u001b[49m\u001b[43m(\u001b[49m\u001b[43mv\u001b[49m\u001b[43m)\u001b[49m \u001b[38;5;28;01mfor\u001b[39;00m v \u001b[38;5;129;01min\u001b[39;00m s\n\u001b[0;32m    119\u001b[0m            \u001b[38;5;28;01mif\u001b[39;00m \u001b[38;5;129;01mnot\u001b[39;00m \u001b[38;5;28misinstance\u001b[39m(v, \u001b[38;5;28mstr\u001b[39m) \u001b[38;5;129;01mor\u001b[39;00m v]\n\u001b[0;32m    120\u001b[0m \u001b[38;5;28;01melse\u001b[39;00m:\n\u001b[0;32m    121\u001b[0m     \u001b[38;5;28;01mraise\u001b[39;00m \u001b[38;5;167;01mValueError\u001b[39;00m(\n\u001b[0;32m    122\u001b[0m         \u001b[38;5;124mf\u001b[39m\u001b[38;5;124m\"\u001b[39m\u001b[38;5;124mExpected str or other non-set iterable, but got \u001b[39m\u001b[38;5;132;01m{\u001b[39;00ms\u001b[38;5;132;01m}\u001b[39;00m\u001b[38;5;124m\"\u001b[39m)\n",
      "File \u001b[1;32mc:\\dev\\machine-learning\\back-pain-prediction\\env\\Lib\\site-packages\\matplotlib\\rcsetup.py:521\u001b[0m, in \u001b[0;36m_validate_linestyle\u001b[1;34m(ls)\u001b[0m\n\u001b[0;32m    516\u001b[0m     \u001b[38;5;28;01mif\u001b[39;00m (\u001b[38;5;28misinstance\u001b[39m(offset, Real)\n\u001b[0;32m    517\u001b[0m             \u001b[38;5;129;01mand\u001b[39;00m \u001b[38;5;28mlen\u001b[39m(onoff) \u001b[38;5;241m%\u001b[39m \u001b[38;5;241m2\u001b[39m \u001b[38;5;241m==\u001b[39m \u001b[38;5;241m0\u001b[39m\n\u001b[0;32m    518\u001b[0m             \u001b[38;5;129;01mand\u001b[39;00m \u001b[38;5;28mall\u001b[39m(\u001b[38;5;28misinstance\u001b[39m(elem, Real) \u001b[38;5;28;01mfor\u001b[39;00m elem \u001b[38;5;129;01min\u001b[39;00m onoff)):\n\u001b[0;32m    519\u001b[0m         \u001b[38;5;28;01mreturn\u001b[39;00m (offset, onoff)\n\u001b[1;32m--> 521\u001b[0m \u001b[38;5;28;01mraise\u001b[39;00m \u001b[38;5;167;01mValueError\u001b[39;00m(\u001b[38;5;124mf\u001b[39m\u001b[38;5;124m\"\u001b[39m\u001b[38;5;124mlinestyle \u001b[39m\u001b[38;5;132;01m{\u001b[39;00mls\u001b[38;5;132;01m!r}\u001b[39;00m\u001b[38;5;124m is not a valid on-off ink sequence.\u001b[39m\u001b[38;5;124m\"\u001b[39m)\n",
      "\u001b[1;31mValueError\u001b[0m: linestyle '_' is not a valid on-off ink sequence."
     ]
    },
    {
     "data": {
      "image/png": "[encoded data removed]",
      "text/plain": [
       "<Figure size 1280x960 with 1 Axes>"
      ]
     },
     "metadata": {},
     "output_type": "display_data"
    }
   ],
   "source": [
    "# pelvic incidence\n",
    "#plt.hist(df.pelvic_incidence, bins = [0, 35, 52, 61, 86])\n",
    "#plt.show()\n",
    "#pi_under_35 = df.pelvic_incidence[df.pelvic_incidence < 35]\n",
    "#print(pi_under_35,)\n",
    "#condition_for_pi_under_35 = df.Class_att[df.pelvic_incidence < 35]\n",
    "#print(condition_for_pi_under_35)\n",
    "##################### PELVIC INCIDENCE ##########################\n",
    "fig = plt.figure()\n",
    "ax1 = fig.add_subplot(1,1,1)\n",
    "pi_normals = df.pelvic_incidence[df.Class_att == 'Normal']\n",
    "pi_abnormals = df.pelvic_incidence[df.Class_att == 'Abnormal']\n",
    "\n",
    "x_min = min(df.pelvic_incidence)\n",
    "x_max = max(df.pelvic_incidence)\n",
    "x_min = math.floor(x_min/10)*10\n",
    "x_max = math.ceil(x_max/10)*10\n",
    "ax1.set_xlim(x_min, x_max)\n",
    "\n",
    "ax1.set_xlim(x_min, x_max)\n",
    "ax1.set_prop_cycle(monochrome)\n",
    "#patterns = [ \"/\" , \"\\\\\" , \"|\" , \"-\" , \"+\" , \"x\", \"o\", \"O\", \".\", \"*\" ]\n",
    "n, bins, patches = ax1.hist(pi_normals, alpha=0.2,hatch=\"o\", density=True)\n",
    "#print('normals - n:{}, bins:{}, patches:{}'.format(n, bins, patches))\n",
    "n, bins, patches = ax1.hist(pi_abnormals, alpha=0.2, hatch=\"x\", density=True)\n",
    "#print('abnormals - n:{}, bins:{}, patches:{}'.format(n, bins, patches))\n",
    "print(x_min)\n",
    "print(x_max)\n",
    "\n",
    "#for val in df.pelvic_incidence:\n",
    "#    if val > 90:\n",
    "#        print(val)\n"
   ]
  },
  {
   "cell_type": "markdown",
   "metadata": {},
   "source": [
    "The normal range for pelvic tilt is 13 +/- 7 deg"
   ]
  },
  {
   "cell_type": "code",
   "execution_count": 4,
   "metadata": {},
   "outputs": [
    {
     "data": {
      "image/png": "[encoded data removed]",
      "text/plain": [
       "<Figure size 432x288 with 1 Axes>"
      ]
     },
     "metadata": {},
     "output_type": "display_data"
    }
   ],
   "source": [
    "#plt.hist(df.pelvic_tilt, bins = [-20, 6, 12, 13, 14, 20])\n",
    "#plt.hist(df.pelvic_tilt)\n",
    "##################### PELVIC TILT ##########################\n",
    "fig = plt.figure()\n",
    "ax1 = fig.add_subplot(1,1,1)\n",
    "x_min = min(df.pelvic_tilt)\n",
    "x_max = max(df.pelvic_tilt)\n",
    "\n",
    "x_min = math.floor(x_min/10)*10\n",
    "x_max = math.ceil(x_max/10)*10\n",
    "ax1.set_xlim(x_min, x_max)\n",
    "plt.xlabel('degrees pelvic tilt')\n",
    "n, bins, patches = ax1.hist(df.pelvic_tilt[df.Class_att == 'Normal'], color = 'g', alpha=0.2, density=True)\n",
    "n, bins, patches = ax1.hist(df.pelvic_tilt[df.Class_att == 'Abnormal'], color = 'r', alpha=0.2, density=True)\n",
    "plt.show()\n"
   ]
  },
  {
   "cell_type": "code",
   "execution_count": 4,
   "metadata": {},
   "outputs": [
    {
     "name": "stdout",
     "output_type": "stream",
     "text": [
      "7.0306\n",
      "16.82108\n"
     ]
    },
    {
     "data": {
      "image/png": "[encoded data removed]",
      "text/plain": [
       "<Figure size 432x288 with 1 Axes>"
      ]
     },
     "metadata": {},
     "output_type": "display_data"
    }
   ],
   "source": [
    "##################### CERVICAL TILT ##########################\n",
    "x_min = min(df.cervical_tilt)\n",
    "x_max = max(df.cervical_tilt)\n",
    "print(x_min)\n",
    "print(x_max)\n",
    "x_min = math.floor(x_min/10)*10\n",
    "x_max = math.ceil(x_max/10)*10\n",
    "\n",
    "fig = plt.figure()\n",
    "ax1 = fig.add_subplot(1,1,1)\n",
    "\n",
    "plt.xlabel('degrees cervical tilt')\n",
    "ax1.hist(df.cervical_tilt[df.Class_att == 'Normal'], color = 'g', alpha=0.2, density=True)\n",
    "ax1.hist(df.cervical_tilt[df.Class_att == 'Abnormal'], color = 'r', alpha=0.2, density=True)\n",
    "plt.show()"
   ]
  },
  {
   "cell_type": "code",
   "execution_count": 12,
   "metadata": {},
   "outputs": [
    {
     "name": "stdout",
     "output_type": "stream",
     "text": [
      "100.7442198\n",
      "125.7423855\n",
      "75.96636144\n",
      "90.56346144\n"
     ]
    },
    {
     "data": {
      "image/png": "[encoded data removed]",
      "text/plain": [
       "<Figure size 432x288 with 1 Axes>"
      ]
     },
     "metadata": {},
     "output_type": "display_data"
    }
   ],
   "source": [
    "##################### LUMBAR LORDOSIS ANGLE ##########################\n",
    "x_min = min(df.lumbar_lordosis_angle)\n",
    "x_max = max(df.lumbar_lordosis_angle)\n",
    "x_min = math.floor(x_min/10)*10\n",
    "x_max = math.floor(x_max/10)*10\n",
    "ax1.set_xlim(x_min, x_max)\n",
    "fig = plt.figure()\n",
    "ax1 = fig.add_subplot(1,1,1)\n",
    "plt.xlabel('lumbar lordosis angle')\n",
    "arr1, bin1, patch1 = ax1.hist(df.lumbar_lordosis_angle[df.Class_att == 'Normal'], color = 'g', alpha=0.2, density=True)\n",
    "arr2, bin2, patch2 = ax1.hist(df.lumbar_lordosis_angle[df.Class_att == 'Abnormal'], color = 'r', alpha=0.2, density=True)\n",
    "#print('{}\\n{}\\n{}\\n\\n\\n'.format(arr1, bin1, patch1))\n",
    "#print('{}\\n{}\\n{}\\n\\n\\n'.format(arr2, bin2, patch2))\n",
    "# for abnormal class - outlier detection\n",
    "for val in df.lumbar_lordosis_angle:\n",
    "    if val > 100:\n",
    "        print(val)\n",
    "\n",
    "# for normal class - outlier detection. First need to retrieve only 'normal' class data\n",
    "norm_data = df[df['Class_att'] == 'Normal']\n",
    "\n",
    "for val in norm_data.lumbar_lordosis_angle:\n",
    "    if val > 70: #looking at graph for last val in data that looks as if not an outlier\n",
    "        print(val)\n",
    "plt.show()"
   ]
  },
  {
   "cell_type": "code",
   "execution_count": 7,
   "metadata": {},
   "outputs": [
    {
     "data": {
      "image/png": "[encoded data removed]",
      "text/plain": [
       "<Figure size 432x288 with 1 Axes>"
      ]
     },
     "metadata": {},
     "output_type": "display_data"
    }
   ],
   "source": [
    "##################### SACRAL SLOPE ##########################\n",
    "x_min = min(df.sacral_slope)\n",
    "x_min = math.floor(x_min)\n",
    "x_max = max(df.sacral_slope)\n",
    "x_max = math.ceil(x_max)\n",
    "\n",
    "fig = plt.figure()\n",
    "ax1 = fig.add_subplot(1,1,1)\n",
    "ax1.set_xlim(x_min, x_max)\n",
    "plt.xlabel('sacral slope')\n",
    "ax1.hist(df.sacral_slope[df.Class_att == 'Normal'], color = 'g', alpha=0.2, density = True)\n",
    "ax1.hist(df.sacral_slope[df.Class_att == 'Abnormal'], color = 'r', alpha=0.2, density = True)\n",
    "plt.show()\n",
    "#print(df.sacral_slope[df.sacral_slope >100])\n",
    "#print(df.sacral_slope[df.sacral_slope > 75])"
   ]
  },
  {
   "cell_type": "code",
   "execution_count": 8,
   "metadata": {},
   "outputs": [
    {
     "data": {
      "image/png": "[encoded data removed]",
      "text/plain": [
       "<Figure size 432x288 with 1 Axes>"
      ]
     },
     "metadata": {},
     "output_type": "display_data"
    }
   ],
   "source": [
    "##################### PELVIC RADIUS ##########################\n",
    "x_min = min(df.pelvic_radius)\n",
    "x_min = math.floor(x_min)\n",
    "x_max = max(df.pelvic_radius)\n",
    "x_max = math.ceil(x_max)\n",
    "\n",
    "fig = plt.figure()\n",
    "ax1 = fig.add_subplot(1,1,1)\n",
    "ax1.set_xlim(x_min, x_max)\n",
    "\n",
    "plt.xlabel('pelvic radius')\n",
    "ax1.hist(df.pelvic_radius[df.Class_att == 'Normal'], color = 'g', alpha=0.2, density=True)\n",
    "ax1.hist(df.pelvic_radius[df.Class_att == 'Abnormal'], color = 'r', alpha=0.2, density=True)\n",
    "plt.show()"
   ]
  },
  {
   "cell_type": "code",
   "execution_count": 9,
   "metadata": {},
   "outputs": [],
   "source": [
    "##################### PELVIC RADIUS ##########################\n",
    "#x_lim = [0, 175]\n",
    "#y_lim = [0, 70]\n",
    "#fig, ax = plt.subplots()\n",
    "#plt.xlabel('pelvic radius')\n",
    "#pr_normals = df.pelvic_radius[df.Class_att == 'Normal'].values\n",
    "#print('normal values are: {}'.format(normals))\n",
    "#pr_abnormals = df.pelvic_radius[df.Class_att == 'Abnormal'].values\n",
    "#print('abnormal values are: {}'.format(abnormals))\n",
    "\n",
    "#x_min = min(np.min(normals), np.min(abnormals))\n",
    "#\n",
    "#x_max = min(np.max(normals), np.max(abnormals))\n",
    "#print('max normals is: {}\\nmax abnormals is: {}'.format(np.max(normals), np.max(abnormals)))\n",
    "#\n",
    "#x_min = math.floor(x_min/10)*10\n",
    "#\n",
    "#x_max = math.ceil(x_max/10)*10\n",
    "#\n",
    "#x_lim = [x_min, x_max]\n",
    "#\n",
    "#ax.hist(normals, color = 'g', alpha=0.5, density=True)\n",
    "#ax.hist(abnormals, color = 'r', alpha=0.5, density=True)\n",
    "#ax.set_xlim(x_lim)\n",
    "##ax.set_ylim(y_lim)\n",
    "#plt.show()"
   ]
  },
  {
   "cell_type": "code",
   "execution_count": 10,
   "metadata": {},
   "outputs": [
    {
     "data": {
      "image/png": "[encoded data removed]",
      "text/plain": [
       "<Figure size 432x288 with 1 Axes>"
      ]
     },
     "metadata": {},
     "output_type": "display_data"
    }
   ],
   "source": [
    "##################### DEGREE SPONDYLOLITHESIS ##########################\n",
    "#x_lim = [(-1, 400]\n",
    "#y_lim = [0, 120]\n",
    "x_min = min(df.degree_spondylolisthesis)\n",
    "x_min = math.floor(x_min)\n",
    "\n",
    "x_max = max(df.degree_spondylolisthesis)\n",
    "x_max = math.ceil(x_max)\n",
    "\n",
    "fig = plt.figure()\n",
    "ax1 = fig.add_subplot(1,1,1)\n",
    "\n",
    "plt.xlabel('degree spondylolithesis')\n",
    "n, bins, patches = ax1.hist(df.degree_spondylolisthesis[df.Class_att == 'Normal'], color = 'g', alpha=0.2, density=True)\n",
    "n, bins, patches = ax1.hist(df.degree_spondylolisthesis[df.Class_att == 'Abnormal'], color = 'r', alpha=0.2, density=True)\n",
    "plt.show()"
   ]
  },
  {
   "cell_type": "code",
   "execution_count": 5,
   "metadata": {},
   "outputs": [
    {
     "name": "stdout",
     "output_type": "stream",
     "text": [
      "0.003220264\n",
      "0.9988266840000001\n"
     ]
    },
    {
     "data": {
      "image/png": "[encoded data removed]",
      "text/plain": [
       "<Figure size 432x288 with 1 Axes>"
      ]
     },
     "metadata": {},
     "output_type": "display_data"
    }
   ],
   "source": [
    "##################### PELVIC SLOPE ##########################\n",
    "#x_lim = [0, 1]\n",
    "#y_lim = [0, 30]\n",
    "x_min = min(df.pelvic_slope)\n",
    "print(x_min)\n",
    "x_min = math.floor(x_min)\n",
    "x_max = max(df.pelvic_slope)\n",
    "print(x_max)\n",
    "x_max = math.ceil(x_max)\n",
    "\n",
    "fig = plt.figure()\n",
    "ax1 = fig.add_subplot(1,1,1)\n",
    "ax1.set_xlim(x_min, x_max)\n",
    "\n",
    "plt.xlabel('pelvic slope gradient')\n",
    "ax1.hist(df.pelvic_slope[df.Class_att == 'Normal'], color = 'g', alpha=0.2, density=True)\n",
    "ax1.hist(df.pelvic_slope[df.Class_att == 'Abnormal'], color = 'r', alpha=0.2, density=True)\n",
    "plt.show()"
   ]
  },
  {
   "cell_type": "code",
   "execution_count": 12,
   "metadata": {},
   "outputs": [
    {
     "data": {
      "image/png": "[encoded data removed]",
      "text/plain": [
       "<Figure size 432x288 with 1 Axes>"
      ]
     },
     "metadata": {},
     "output_type": "display_data"
    }
   ],
   "source": [
    "##################### DIRECT TILT ##########################\n",
    "#x_lim = [0, 40]\n",
    "#y_lim = [0, 30]\n",
    "x_min = min(df.direct_tilt)\n",
    "x_min = math.floor(x_min)\n",
    "\n",
    "x_max = max(df.direct_tilt)\n",
    "x_max = math.floor(x_max)\n",
    "\n",
    "fig = plt.figure()\n",
    "ax1 = fig.add_subplot(1,1,1)\n",
    "\n",
    "ax1.set_xlim(x_min, x_max)\n",
    "\n",
    "plt.xlabel('direct tilt')\n",
    "ax1.hist(df.direct_tilt[df.Class_att == 'Normal'], color = 'g', alpha=0.2, density=True)\n",
    "ax1.hist(df.direct_tilt[df.Class_att == 'Abnormal'], color = 'r', alpha=0.2, density=True)\n",
    "plt.show()"
   ]
  },
  {
   "cell_type": "code",
   "execution_count": 13,
   "metadata": {},
   "outputs": [
    {
     "data": {
      "image/png": "[encoded data removed]",
      "text/plain": [
       "<Figure size 432x288 with 1 Axes>"
      ]
     },
     "metadata": {},
     "output_type": "display_data"
    }
   ],
   "source": [
    "##################### THORACIC SLOPE ##########################\n",
    "#x_lim = [0, 25]\n",
    "#y_lim = [0, 25]\n",
    "\n",
    "x_min = min(df.thoracic_slope)\n",
    "x_min = math.floor(x_min)\n",
    "\n",
    "x_max = max(df.thoracic_slope)\n",
    "x_max = math.ceil(x_max)\n",
    "\n",
    "fig = plt.figure()\n",
    "ax1 = fig.add_subplot(1,1,1)\n",
    "ax1.set_xlim(x_min, x_max)\n",
    "\n",
    "plt.xlabel('thoracic slope angle')\n",
    "ax1.hist(df.thoracic_slope[df.Class_att == 'Normal'], color = 'g', alpha=0.2, density=True)\n",
    "ax1.hist(df.thoracic_slope[df.Class_att == 'Abnormal'], color = 'r', alpha=0.2, density=True)\n",
    "plt.show()"
   ]
  },
  {
   "cell_type": "code",
   "execution_count": 14,
   "metadata": {},
   "outputs": [
    {
     "data": {
      "image/png": "[encoded data removed]",
      "text/plain": [
       "<Figure size 432x288 with 1 Axes>"
      ]
     },
     "metadata": {},
     "output_type": "display_data"
    }
   ],
   "source": [
    "##################### SACRUM ANGLE ##########################\n",
    "#x_lim = [0, 25]\n",
    "#y_lim = [0, 25]\n",
    "x_min = min(df.sacrum_angle)\n",
    "x_min = math.floor(x_min)\n",
    "\n",
    "x_max = max(df.sacrum_angle)\n",
    "x_max = math.ceil(x_max)\n",
    "\n",
    "fig = plt.figure()\n",
    "ax1 = fig.add_subplot(1,1,1)\n",
    "ax1.set_xlim(x_min, x_max)\n",
    "\n",
    "plt.xlabel('sacrum angle')\n",
    "ax1.hist(df.sacrum_angle[df.Class_att == 'Normal'], color = 'g', alpha=0.2, density=True)\n",
    "ax1.hist(df.sacrum_angle[df.Class_att == 'Abnormal'], color = 'r', alpha=0.2, density=True)\n",
    "plt.show()"
   ]
  },
  {
   "cell_type": "code",
   "execution_count": 15,
   "metadata": {},
   "outputs": [
    {
     "data": {
      "image/png": "[encoded data removed]",
      "text/plain": [
       "<Figure size 432x288 with 1 Axes>"
      ]
     },
     "metadata": {},
     "output_type": "display_data"
    }
   ],
   "source": [
    "##################### SCOLIOSIS SLOPE ##########################\n",
    "#x_lim = [0, 50]\n",
    "#y_lim = [0, 30]\n",
    "\n",
    "x_min = min(df.scoliosis_slope)\n",
    "x_min = math.floor(x_min)\n",
    "\n",
    "x_max = max(df.scoliosis_slope)\n",
    "x_max = math.ceil(x_max)\n",
    "\n",
    "fig = plt.figure()\n",
    "ax1 = fig.add_subplot(1,1,1)\n",
    "\n",
    "ax1.set_xlim(x_min, x_max)\n",
    "\n",
    "plt.xlabel('scoliosis slope angle')\n",
    "ax1.hist(df.scoliosis_slope[df.Class_att == 'Normal'], color = 'g', alpha=0.2, density=True)\n",
    "ax1.hist(df.scoliosis_slope[df.Class_att == 'Abnormal'], color = 'r', alpha=0.2, density=True)\n",
    "plt.show()"
   ]
  },
  {
   "cell_type": "markdown",
   "metadata": {},
   "source": [
    "There's something not right about the normal and abnormal filter because both classes seem to always have 50:50 for each feature."
   ]
  }
 ],
 "metadata": {
  "kernelspec": {
   "display_name": "Python 3",
   "language": "python",
   "name": "python3"
  },
  "language_info": {
   "codemirror_mode": {
    "name": "ipython",
    "version": 3
   },
   "file_extension": ".py",
   "mimetype": "text/x-python",
   "name": "python",
   "nbconvert_exporter": "python",
   "pygments_lexer": "ipython3",
   "version": "3.12.5"
  }
 },
 "nbformat": 4,
 "nbformat_minor": 2
}
