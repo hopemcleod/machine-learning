{
 "cells": [
  {
   "cell_type": "code",
   "execution_count": 1,
   "metadata": {},
   "outputs": [],
   "source": [
    "import seaborn as sns\n",
    "from pandas import *\n",
    "import pandas as pd\n",
    "from sklearn.model_selection import KFold\n",
    "from sklearn.model_selection import train_test_split\n",
    "from sklearn import svm\n",
    "from sklearn.metrics import accuracy_score\n",
    "from scipy.stats.stats import pearsonr\n",
    "import itertools\n"
   ]
  },
  {
   "cell_type": "code",
   "execution_count": 4,
   "metadata": {
    "scrolled": false
   },
   "outputs": [
    {
     "name": "stdout",
     "output_type": "stream",
     "text": [
      "['pelvic_incidence', 'pelvic_tilt', 'lumbar_lordosis_angle', 'sacral_slope', 'pelvic_radius', 'degree_spondylolisthesis', 'pelvic_slope', 'direct_tilt', 'thoracic_slope', 'cervical_tilt', 'sacrum_angle', 'scoliosis_slope']\n",
      "                                                      PCC       p-value\n",
      "cervical_tilt__sacrum_angle                      0.057451  3.133209e-01\n",
      "cervical_tilt__scoliosis_slope                   0.021243  7.094840e-01\n",
      "degree_spondylolisthesis__cervical_tilt          0.056576  3.207612e-01\n",
      "degree_spondylolisthesis__direct_tilt           -0.063812  2.626555e-01\n",
      "degree_spondylolisthesis__pelvic_slope           0.085925  1.311568e-01\n",
      "degree_spondylolisthesis__sacrum_angle           0.023021  6.864034e-01\n",
      "degree_spondylolisthesis__scoliosis_slope       -0.041023  4.717258e-01\n",
      "degree_spondylolisthesis__thoracic_slope        -0.057286  3.147202e-01\n",
      "direct_tilt__cervical_tilt                       0.072738  2.015286e-01\n",
      "direct_tilt__sacrum_angle                       -0.037428  5.114619e-01\n",
      "direct_tilt__scoliosis_slope                    -0.024021  6.735428e-01\n",
      "direct_tilt__thoracic_slope                      0.009887  8.623504e-01\n",
      "lumbar_lordosis_angle__cervical_tilt             0.063875  2.621894e-01\n",
      "lumbar_lordosis_angle__degree_spondylolisthesis  0.533667  3.223909e-24\n",
      "lumbar_lordosis_angle__direct_tilt              -0.112939  4.694230e-02\n",
      "lumbar_lordosis_angle__pelvic_radius            -0.080344  1.581966e-01\n",
      "lumbar_lordosis_angle__pelvic_slope              0.029486  6.050411e-01\n",
      "lumbar_lordosis_angle__sacral_slope              0.598387  1.703261e-31\n",
      "lumbar_lordosis_angle__sacrum_angle              0.057199  3.154570e-01\n",
      "lumbar_lordosis_angle__scoliosis_slope          -0.049054  3.893967e-01\n",
      "lumbar_lordosis_angle__thoracic_slope           -0.063582  2.643837e-01\n",
      "pelvic_incidence__cervical_tilt                  0.016750  7.689605e-01\n",
      "pelvic_incidence__degree_spondylolisthesis       0.638743  6.143125e-37\n",
      "pelvic_incidence__direct_tilt                   -0.078411  1.684787e-01\n",
      "pelvic_incidence__lumbar_lordosis_angle          0.717282  2.980436e-50\n",
      "pelvic_incidence__pelvic_radius                 -0.247467  1.042025e-05\n",
      "pelvic_incidence__pelvic_slope                   0.043290  4.475657e-01\n",
      "pelvic_incidence__pelvic_tilt                    0.629199  1.406560e-35\n",
      "pelvic_incidence__sacral_slope                   0.814960  5.887165e-75\n",
      "pelvic_incidence__sacrum_angle                   0.019240  7.357991e-01\n",
      "...                                                   ...           ...\n",
      "pelvic_radius__sacrum_angle                      0.029738  6.019487e-01\n",
      "pelvic_radius__scoliosis_slope                  -0.030145  5.969959e-01\n",
      "pelvic_radius__thoracic_slope                    0.060477  2.884716e-01\n",
      "pelvic_slope__cervical_tilt                      0.088017  1.219977e-01\n",
      "pelvic_slope__direct_tilt                        0.012694  8.238475e-01\n",
      "pelvic_slope__sacrum_angle                       0.060743  2.863542e-01\n",
      "pelvic_slope__scoliosis_slope                   -0.073893  1.944455e-01\n",
      "pelvic_slope__thoracic_slope                    -0.011770  8.364726e-01\n",
      "pelvic_tilt__cervical_tilt                       0.028931  6.118581e-01\n",
      "pelvic_tilt__degree_spondylolisthesis            0.397862  3.350405e-13\n",
      "pelvic_tilt__direct_tilt                        -0.072119  2.054029e-01\n",
      "pelvic_tilt__lumbar_lordosis_angle               0.432764  1.398654e-15\n",
      "pelvic_tilt__pelvic_radius                       0.032668  5.666409e-01\n",
      "pelvic_tilt__pelvic_slope                        0.008852  8.766365e-01\n",
      "pelvic_tilt__sacral_slope                        0.062345  2.738092e-01\n",
      "pelvic_tilt__sacrum_angle                        0.032859  5.643763e-01\n",
      "pelvic_tilt__scoliosis_slope                    -0.056550  3.209808e-01\n",
      "pelvic_tilt__thoracic_slope                     -0.063394  2.658019e-01\n",
      "sacral_slope__cervical_tilt                     -0.000063  9.991214e-01\n",
      "sacral_slope__degree_spondylolisthesis           0.523557  3.225495e-23\n",
      "sacral_slope__direct_tilt                       -0.046914  4.104338e-01\n",
      "sacral_slope__pelvic_radius                     -0.342128  6.125657e-10\n",
      "sacral_slope__pelvic_slope                       0.048988  3.900312e-01\n",
      "sacral_slope__sacrum_angle                       0.000207  9.971077e-01\n",
      "sacral_slope__scoliosis_slope                    0.032853  5.644446e-01\n",
      "sacral_slope__thoracic_slope                    -0.067968  2.327740e-01\n",
      "sacrum_angle__scoliosis_slope                    0.015337  7.879551e-01\n",
      "thoracic_slope__cervical_tilt                    0.052451  3.573610e-01\n",
      "thoracic_slope__sacrum_angle                     0.011354  8.421821e-01\n",
      "thoracic_slope__scoliosis_slope                  0.009541  8.671217e-01\n",
      "\n",
      "[66 rows x 2 columns]\n"
     ]
    }
   ],
   "source": [
    "df12 = pd.read_csv('../data/original.csv')\n",
    "df = df12.iloc[:, :-1]\n",
    "correlations = {}\n",
    "columns = df.columns.tolist()\n",
    "print(columns)\n",
    "for col_a, col_b in itertools.combinations(columns, 2):\n",
    "    correlations[col_a + '__' + col_b] = pearsonr(df.loc[:, col_a], df.loc[:, col_b])\n",
    "\n",
    "result = DataFrame.from_dict(correlations, orient='index')\n",
    "result.columns = ['PCC', 'p-value']\n",
    "#print(len(result))\n",
    "sorted_result = result.sort_index()\n",
    "\n",
    "\n",
    "#print(result.sort_index().columns)\n",
    "print(result.sort_index())"
   ]
  },
  {
   "cell_type": "code",
   "execution_count": null,
   "metadata": {},
   "outputs": [],
   "source": []
  }
 ],
 "metadata": {
  "kernelspec": {
   "display_name": "Python 3",
   "language": "python",
   "name": "python3"
  },
  "language_info": {
   "codemirror_mode": {
    "name": "ipython",
    "version": 3
   },
   "file_extension": ".py",
   "mimetype": "text/x-python",
   "name": "python",
   "nbconvert_exporter": "python",
   "pygments_lexer": "ipython3",
   "version": "3.6.5"
  }
 },
 "nbformat": 4,
 "nbformat_minor": 2
}
