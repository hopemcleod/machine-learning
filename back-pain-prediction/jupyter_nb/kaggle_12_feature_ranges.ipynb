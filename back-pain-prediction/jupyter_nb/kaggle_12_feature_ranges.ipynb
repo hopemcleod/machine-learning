{
 "cells": [
  {
   "cell_type": "code",
   "execution_count": 1,
   "metadata": {},
   "outputs": [],
   "source": [
    "import matplotlib.pyplot as plt\n",
    "import numpy as np\n",
    "import pandas as pd\n",
    "import math"
   ]
  },
  {
   "cell_type": "code",
   "execution_count": 2,
   "metadata": {},
   "outputs": [],
   "source": [
    "data = pd.read_csv('../data/original.csv')"
   ]
  },
  {
   "cell_type": "code",
   "execution_count": 3,
   "metadata": {
    "scrolled": true
   },
   "outputs": [
    {
     "name": "stdout",
     "output_type": "stream",
     "text": [
      "\n",
      "\n",
      "pelvic_incidence:\n",
      "normal range: 30.74-89.83\n",
      "abnormal range: 26.15-129.83\n",
      "\n",
      "\n",
      "pelvic_tilt:\n",
      "normal range: -5.85-29.89\n",
      "abnormal range: -6.55-49.43\n",
      "\n",
      "\n",
      "lumbar_lordosis_angle:\n",
      "normal range: 19.07-90.56\n",
      "abnormal range: 14.0-125.74\n",
      "\n",
      "\n",
      "sacral_slope:\n",
      "normal range: 17.39-67.2\n",
      "abnormal range: 13.37-121.43\n",
      "\n",
      "\n",
      "pelvic_radius:\n",
      "normal range: 100.5-147.89\n",
      "abnormal range: 70.08-163.07\n",
      "\n",
      "\n",
      "degree_spondylolisthesis:\n",
      "normal range: -11.06-31.17\n",
      "abnormal range: -10.68-418.54\n",
      "\n",
      "\n",
      "pelvic_slope:\n",
      "normal range: 0.01-1.0\n",
      "abnormal range: 0.0-1.0\n",
      "\n",
      "\n",
      "direct_tilt:\n",
      "normal range: 7.39-36.62\n",
      "abnormal range: 7.03-36.74\n",
      "\n",
      "\n",
      "thoracic_slope:\n",
      "normal range: 7.48-19.27\n",
      "abnormal range: 7.04-19.32\n",
      "\n",
      "\n",
      "cervical_tilt:\n",
      "normal range: 7.05-16.62\n",
      "abnormal range: 7.03-16.82\n",
      "\n",
      "\n",
      "sacrum_angle:\n",
      "normal range: -35.08-6.97\n",
      "abnormal range: -35.29-6.87\n",
      "\n",
      "\n",
      "scoliosis_slope:\n",
      "normal range: 7.43-44.34\n",
      "abnormal range: 7.01-44.23\n"
     ]
    }
   ],
   "source": [
    "\n",
    "norm_data = data[data.Class_att == 'Normal']\n",
    "abnorm_data = data[data.Class_att == 'Abnormal']\n",
    "\n",
    "for col in data.columns[:-1]:\n",
    "    norm = norm_data[col]\n",
    "    abnorm = abnorm_data[col]\n",
    "    print('\\n\\n{}:\\nnormal range: {}-{}\\nabnormal range: {}-{}'.format(col, round(min(norm),2),\n",
    "                                                                         round(max(norm),2),\n",
    "                                                                         round(min(abnorm),2), \n",
    "                                                                         round(max(abnorm),2)))"
   ]
  },
  {
   "cell_type": "code",
   "execution_count": null,
   "metadata": {},
   "outputs": [],
   "source": []
  }
 ],
 "metadata": {
  "kernelspec": {
   "display_name": "Python 3",
   "language": "python",
   "name": "python3"
  },
  "language_info": {
   "codemirror_mode": {
    "name": "ipython",
    "version": 3
   },
   "file_extension": ".py",
   "mimetype": "text/x-python",
   "name": "python",
   "nbconvert_exporter": "python",
   "pygments_lexer": "ipython3",
   "version": "3.12.5"
  }
 },
 "nbformat": 4,
 "nbformat_minor": 2
}
